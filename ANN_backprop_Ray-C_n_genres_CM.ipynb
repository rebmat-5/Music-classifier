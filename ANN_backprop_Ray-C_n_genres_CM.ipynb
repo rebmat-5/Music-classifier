{
 "cells": [
  {
   "cell_type": "code",
   "execution_count": 1,
   "metadata": {},
   "outputs": [],
   "source": [
    "%matplotlib inline\n",
    "import os\n",
    "import sys\n",
    "import IPython.display as ipd\n",
    "import numpy as np\n",
    "import pandas as pd\n",
    "import matplotlib.pyplot as plt\n",
    "import seaborn as sns\n",
    "import sklearn as skl\n",
    "from sklearn.metrics import confusion_matrix\n",
    "import sklearn.utils, sklearn.preprocessing, sklearn.decomposition, sklearn.svm\n",
    "from sklearn.decomposition import PCA\n",
    "import librosa\n",
    "import librosa.display\n",
    "\n",
    "import utils"
   ]
  },
  {
   "cell_type": "markdown",
   "metadata": {},
   "source": [
    "# BPNN CLASSES"
   ]
  },
  {
   "cell_type": "code",
   "execution_count": 2,
   "metadata": {},
   "outputs": [],
   "source": [
    "#functions of non-linear activations\n",
    "def f_sigmoid(X, deriv=False):\n",
    "    if not deriv:\n",
    "        return 1 / (1 + np.exp(-X))\n",
    "    else:\n",
    "        return f_sigmoid(X)*(1 - f_sigmoid(X))\n",
    "\n",
    "def f_softmax(X):\n",
    "    Z = np.sum(np.exp(X), axis=1)\n",
    "    Z = Z.reshape(Z.shape[0], 1)\n",
    "    return np.exp(X) / Z"
   ]
  },
  {
   "cell_type": "code",
   "execution_count": 3,
   "metadata": {},
   "outputs": [],
   "source": [
    "#Functionality of a single hidden layer\n",
    "class Layer:\n",
    "    def __init__(self, size, batch_size, is_input=False, is_output=False,\n",
    "                 activation=f_sigmoid):\n",
    "        self.is_input = is_input\n",
    "        self.is_output = is_output\n",
    "\n",
    "        # Z is the matrix that holds output values\n",
    "        self.Z = np.zeros((batch_size, size[0]))\n",
    "        # The activation function is an externally defined function (with a\n",
    "        # derivative) that is stored here\n",
    "        self.activation = activation\n",
    "\n",
    "        # W is the outgoing weight matrix for this layer\n",
    "        self.W = None\n",
    "        # S is the matrix that holds the inputs to this layer\n",
    "        self.S = None\n",
    "        # D is the matrix that holds the deltas for this layer\n",
    "        self.D = None\n",
    "        # Fp is the matrix that holds the derivatives of the activation function\n",
    "        self.Fp = None\n",
    "\n",
    "        if not is_input:\n",
    "            self.S = np.zeros((batch_size, size[0]))\n",
    "            self.D = np.zeros((batch_size, size[0]))\n",
    "\n",
    "        if not is_output:\n",
    "            self.W = np.random.normal(size=size, scale=1E-4)\n",
    "\n",
    "        if not is_input and not is_output:\n",
    "            self.Fp = np.zeros((size[0], batch_size))\n",
    "\n",
    "    def forward_propagate(self):\n",
    "        if self.is_input:\n",
    "            return self.Z.dot(self.W)\n",
    "\n",
    "        self.Z = self.activation(self.S)\n",
    "        if self.is_output:\n",
    "            return self.Z\n",
    "        else:\n",
    "            # For hidden layers, we add the bias values here\n",
    "            self.Z = np.append(self.Z, np.ones((self.Z.shape[0], 1)), axis=1)\n",
    "            self.Fp = self.activation(self.S, deriv=True).T\n",
    "            return self.Z.dot(self.W)\n"
   ]
  },
  {
   "cell_type": "code",
   "execution_count": 28,
   "metadata": {},
   "outputs": [],
   "source": [
    "class MultiLayerPerceptron:\n",
    "    def __init__(self,input_genres, layer_config, batch_size=100,activation_o = f_softmax, CM=False):\n",
    "        self.layers = []\n",
    "        self.num_layers = len(layer_config)\n",
    "        self.minibatch_size = batch_size\n",
    "        self.CM = CM\n",
    "\n",
    "        for i in range(self.num_layers-1):\n",
    "            if i == 0:\n",
    "                print (\"Initializing input layer with size {0}.\".format(layer_config[i]))\n",
    "                # Here, we add an additional unit at the input for the bias\n",
    "                # weight.\n",
    "                self.layers.append(Layer([layer_config[i]+1, layer_config[i+1]],\n",
    "                                         batch_size,\n",
    "                                         is_input=True))\n",
    "            else:\n",
    "                print (\"Initializing hidden layer with size {0}.\".format(layer_config[i]))\n",
    "                # Here we add an additional unit in the hidden layers for the\n",
    "                # bias weight.\n",
    "                self.layers.append(Layer([layer_config[i]+1, layer_config[i+1]],\n",
    "                                         batch_size,\n",
    "                                        activation=f_sigmoid))\n",
    "\n",
    "\n",
    "        print (\"Initializing output layer with size {0}.\".format(layer_config[-1]))\n",
    "        self.layers.append(Layer([layer_config[-1], None],\n",
    "                                 batch_size,\n",
    "                                 is_output=True,\n",
    "                                 activation=activation_o))\n",
    "        print (\"Done!\")\n",
    "\n",
    "    def forward_propagate(self, data):\n",
    "        # We need to be sure to add bias values to the input\n",
    "        self.layers[0].Z = np.append(data, np.ones((data.shape[0], 1)), axis=1)\n",
    "\n",
    "        for i in range(self.num_layers-1):\n",
    "            self.layers[i+1].S = self.layers[i].forward_propagate()\n",
    "        return self.layers[-1].forward_propagate()\n",
    "\n",
    "    def backpropagate(self, yhat, labels):\n",
    "        #The differnce between the predicted labels from the neural network and the correct labels\n",
    "        #Calculates the derivate of the cost function\n",
    "        self.layers[-1].D = (yhat - labels).T\n",
    "        \n",
    "        for i in range(self.num_layers-2, 0, -1):\n",
    "            # We do not calculate deltas for the bias values\n",
    "            W_nobias = self.layers[i].W[0:-1, :]\n",
    "\n",
    "            #Backpropagates the delta with respect to the derivate of the activation function\n",
    "            #Bakcpropagates the partial derivates\n",
    "            self.layers[i].D = W_nobias.dot(self.layers[i+1].D) * self.layers[i].Fp\n",
    "\n",
    "    def update_weights(self, eta):\n",
    "        for i in range(0, self.num_layers-1):\n",
    "            #Delta is used to know how the weights should be adjusted to minimize the error\n",
    "            W_grad = -eta*(self.layers[i+1].D.dot(self.layers[i].Z)).T\n",
    "            self.layers[i].W += W_grad\n",
    "\n",
    "    def evaluate(self, train_data, train_labels, test_data, test_labels,\n",
    "                 num_epochs=120, eta=0.05, eval_train=False, eval_test=True):\n",
    "\n",
    "        N_train = len(train_labels)*len(train_labels[0])\n",
    "        N_test = len(test_labels)*len(test_labels[0])\n",
    "\n",
    "        print (\"Training for {0} epochs...\".format(num_epochs))\n",
    "        for t in range(0, num_epochs):\n",
    "            out_str = \"[{0:4d}] \".format(t)\n",
    "\n",
    "            for b_data, b_labels in zip(train_data, train_labels):\n",
    "                output = self.forward_propagate(b_data)\n",
    "                self.backpropagate(output, b_labels)\n",
    "                \n",
    "                #It updates the weighs by multiplying the error with the output from itself and the delta \n",
    "                #from the next node in the network\n",
    "                #eta is how aggressive the network \"corrects itself\" to changes\n",
    "                self.update_weights(eta=eta)\n",
    "\n",
    "            if eval_train:\n",
    "                errs = 0\n",
    "                for b_data, b_labels in zip(train_data, train_labels):\n",
    "                    output = self.forward_propagate(b_data)\n",
    "                    yhat = np.argmax(output, axis=1)\n",
    "                    errs += np.sum(1-b_labels[np.arange(len(b_labels)), yhat])\n",
    "\n",
    "                out_str = (\"{0} Training error: {1:.5f}\".format(out_str,\n",
    "                                                           float(errs)/N_train))\n",
    "\n",
    "            if eval_test:\n",
    "                errs = 0\n",
    "                for b_data, b_labels in zip(test_data, test_labels):\n",
    "                    output = self.forward_propagate(b_data)\n",
    "                    yhat = np.argmax(output, axis=1)\n",
    "                    errs += np.sum(1-b_labels[np.arange(len(b_labels)), yhat])\n",
    "                \n",
    "                out_str = (\"{0} Test error: {1:.5f} Accuracy: {2:.5f}\").format(out_str,\n",
    "                                                       float(errs)/N_test,(1-float(errs)/N_test))\n",
    "            print(out_str)\n",
    "            #Build confusion matrix\n",
    "            #Row = predicted\n",
    "            #Column = truth\n",
    "            if(t==num_epochs-1 and self.CM):\n",
    "                print(t)\n",
    "                print(self.CM)\n",
    "                cm=np.zeros((len(input_genres),len(input_genres)))\n",
    "                for i in range(len(b_labels)):\n",
    "                    cm[yhat[i],np.where(b_labels[i]==1)]+=1\n",
    "                df_cm = pd.DataFrame(cm, index = [i for i in input_genres],\n",
    "                              columns = [i for i in input_genres])\n",
    "                plt.figure(figsize = (10,7))\n",
    "                sns.heatmap(df_cm, annot=True)"
   ]
  },
  {
   "cell_type": "code",
   "execution_count": 5,
   "metadata": {},
   "outputs": [],
   "source": [
    "def label_to_bit_vector(labels, nbits):\n",
    "    print((labels.shape[0], nbits))\n",
    "    bit_vector = np.zeros((labels.shape[0], nbits))\n",
    "    print(bit_vector)\n",
    "    for i in range(labels.shape[0]):\n",
    "        bit_vector[i, labels[i]] = 1.0\n",
    "\n",
    "    return bit_vector"
   ]
  },
  {
   "cell_type": "code",
   "execution_count": 6,
   "metadata": {},
   "outputs": [],
   "source": [
    "def prepare_for_backprop(batch_size, Train_images, Train_labels, Valid_images, Valid_labels):\n",
    "    \n",
    "    print (\"Creating data...\")\n",
    "    batched_train_data, batched_train_labels = create_batches(Train_images, Train_labels,\n",
    "                                              batch_size,\n",
    "                                              create_bit_vector=True)\n",
    "    batched_valid_data, batched_valid_labels = create_batches(Valid_images, Valid_labels,\n",
    "                                              batch_size,\n",
    "                                              create_bit_vector=True)\n",
    "    print (\"Done!\")\n",
    "\n",
    "\n",
    "    return batched_train_data, batched_train_labels, batched_valid_data, batched_valid_labels"
   ]
  },
  {
   "cell_type": "code",
   "execution_count": 7,
   "metadata": {},
   "outputs": [],
   "source": [
    "def genre_to_bit_vector(genres, nbits):\n",
    "    bit_vector = np.zeros((genres.shape[0], nbits))\n",
    "    nr_genres = 0\n",
    "    i =  0\n",
    "    while nr_genres<genres.shape[0]:\n",
    "        try:\n",
    "            if(mydict[genres[i]]!= 0 | mydict[genres[i]]!= 4):\n",
    "                bit_vector[nr_genres, 2] = 1.0\n",
    "                i += 1\n",
    "                nr_genres += 1\n",
    "            else:\n",
    "                bit_vector[nr_genres, mydict[genres[i]]] = 1.0\n",
    "                i += 1\n",
    "                nr_genres += 1\n",
    "        except KeyError:\n",
    "            i += 1\n",
    "    \n",
    "    return bit_vector"
   ]
  },
  {
   "cell_type": "code",
   "execution_count": 8,
   "metadata": {},
   "outputs": [],
   "source": [
    "# Add input genres to a dictionary\n",
    "def createDict(input_genres):\n",
    "    mydict={}\n",
    "    i = 0\n",
    "    for item in input_genres:\n",
    "        if(i>0 and item in mydict):\n",
    "            continue\n",
    "        else:    \n",
    "           mydict[item] = i\n",
    "           i = i+1\n",
    "    return mydict"
   ]
  },
  {
   "cell_type": "code",
   "execution_count": 9,
   "metadata": {},
   "outputs": [],
   "source": [
    "def create_batches(data, labels, batch_size, create_bit_vector=False):\n",
    "    N = data.shape[0]\n",
    "    print(\"This is : \" + str(N))\n",
    "    print (\"Batch size {0}, the number of examples {1}.\".format(batch_size,N))\n",
    "\n",
    "    if N % batch_size != 0:\n",
    "        print (\"Warning in create_minibatches(): Batch size {0} does not \" \\\n",
    "              \"evenly divide the number of examples {1}.\".format(batch_size,N))\n",
    "    chunked_data = []\n",
    "    chunked_labels = []\n",
    "    idx = 0\n",
    "    while idx + batch_size <= N:\n",
    "        chunked_data.append(data[idx:idx+batch_size, :])\n",
    "        if not create_bit_vector:\n",
    "            chunked_labels.append(labels[idx:idx+batch_size])\n",
    "        else:\n",
    "            bit_vector = genre_to_bit_vector(labels[idx:idx+batch_size], len(input_genres))\n",
    "            chunked_labels.append(bit_vector)\n",
    "\n",
    "        idx += batch_size\n",
    "    return chunked_data, chunked_labels"
   ]
  },
  {
   "cell_type": "code",
   "execution_count": 10,
   "metadata": {},
   "outputs": [
    {
     "name": "stderr",
     "output_type": "stream",
     "text": [
      "/home/elias/anaconda3/envs/D7041E/lib/python3.6/site-packages/ipykernel_launcher.py:2: FutureWarning: specifying 'categories' or 'ordered' in .astype() is deprecated; pass a CategoricalDtype instead\n",
      "  \n"
     ]
    }
   ],
   "source": [
    "    # Load metadata from FMA\n",
    "    tracks = utils.load('./fma_metadata/tracks.csv')\n",
    "    genres = utils.load('./fma_metadata/genres.csv')\n",
    "    features = utils.load('./fma_metadata/features.csv')\n",
    "    echonest = utils.load('./fma_metadata/echonest.csv')"
   ]
  },
  {
   "cell_type": "code",
   "execution_count": 11,
   "metadata": {},
   "outputs": [],
   "source": [
    "def miniset(input_genres):\n",
    "\n",
    "    np.testing.assert_array_equal(features.index, tracks.index)\n",
    "    assert echonest.index.isin(tracks.index).all()\n",
    "    \n",
    "    # Split the set of tracks into partitions for training and test\n",
    "    small = tracks['set', 'subset'] <= 'small'\n",
    "    train = tracks['set', 'split'] == 'training'\n",
    "    test = (tracks['set', 'split'] == 'test') | (tracks['set', 'split'] == 'validation')\n",
    "\n",
    "    # Take out track_id for specified genres to create smaller subset\n",
    "    genres = tracks.loc[small, ('track', 'genre_top')]\n",
    "    mini_set = genres[genres.isin(input_genres)]\n",
    "    \n",
    "    # Create sets for training and testing\n",
    "    X_test = features.loc[small & test, 'mfcc']\n",
    "    X_test = X_test.values\n",
    "\n",
    "    Xtr = features.loc[small & train, 'mfcc']\n",
    "    Xtr = Xtr.values\n",
    "    \n",
    "    L_test = tracks.loc[small & test, ('track', 'genre_top')]\n",
    "    Ltr = tracks.loc[small & train, ('track', 'genre_top')]\n",
    "\n",
    "    # Take out the tracks from the specified genres\n",
    "    Ltr_mini = Ltr[Ltr.isin(input_genres)]\n",
    "    Xtr_mini = []\n",
    "    i = 0\n",
    "    for j in Ltr:\n",
    "        if(j in input_genres):\n",
    "            Xtr_mini.append(Xtr[i])\n",
    "        i += 1 \n",
    "    Xtr_mini = np.asarray(Xtr_mini)\n",
    "\n",
    "    L_test_mini = L_test[L_test.isin(input_genres)]\n",
    "    X_test_mini = []\n",
    "    i = 0\n",
    "    for j in L_test:\n",
    "        if((j in input_genres)):\n",
    "            X_test_mini.append(X_test[i])\n",
    "        i += 1 \n",
    "    X_test_mini = np.asarray(X_test_mini)\n",
    "    \n",
    "    # Normalize data\n",
    "    mean = np.mean(Xtr_mini, axis=0)\n",
    "    std = np.std(Xtr_mini, axis=0)\n",
    "\n",
    "    Xtr_mini = (Xtr_mini - mean)/std\n",
    "    X_test_mini = (X_test_mini - mean)/std\n",
    "    \n",
    "    return Xtr_mini, Ltr_mini, X_test_mini, L_test_mini"
   ]
  },
  {
   "cell_type": "code",
   "execution_count": 12,
   "metadata": {},
   "outputs": [],
   "source": [
    "def preprocess(input_genres):\n",
    "    mydict = createDict(input_genres)\n",
    "    Xtr_mini, Ltr_mini, X_test_mini, L_test_mini = miniset(input_genres)\n",
    "    return mydict, Xtr_mini, Ltr_mini, X_test_mini, L_test_mini"
   ]
  },
  {
   "cell_type": "markdown",
   "metadata": {},
   "source": [
    "# Data Preprocessing"
   ]
  },
  {
   "cell_type": "markdown",
   "metadata": {},
   "source": [
    "## Choose which genres to compare\n",
    "Select between the following genres: <br>\n",
    "['Hip-Hop' ,'Rock' ,'Pop' ,'Folk' ,'Experimental' ,'International' ,'Electronic' ,'Instrumental'] <br>\n",
    "Set batch size to <= #genres * 200"
   ]
  },
  {
   "cell_type": "code",
   "execution_count": 13,
   "metadata": {
    "scrolled": true
   },
   "outputs": [],
   "source": [
    "#input_genres = ['Hip-Hop','Rock','Pop','Folk','Experimental','International' ,'Electronic' ,'Instrumental']\n",
    "#input_genres = ['Hip-Hop','Instrumental','Rock']#WE CAN GET UP TO 80% ACCURACY ON THIS COMBO\n",
    "input_genres = ['Hip-Hop','Folk','Rock','Instrumental']#WE CAN GET UP TO 70% ACCURACY ON THIS COMBO\n",
    "#input_genres = ['Hip-Hop','Rock']\n",
    "batch_size = len(input_genres)*100\n",
    "# Create training and test sets\n",
    "mydict, Xtr_mini, Ltr_mini, X_test_mini, L_test_mini = preprocess(input_genres)"
   ]
  },
  {
   "cell_type": "code",
   "execution_count": 14,
   "metadata": {},
   "outputs": [
    {
     "data": {
      "text/plain": [
       "Text(0, 0.5, 'Cumulative explained variance')"
      ]
     },
     "execution_count": 14,
     "metadata": {},
     "output_type": "execute_result"
    },
    {
     "data": {
      "image/png": "[encoded data removed]",
      "text/plain": [
       "<Figure size 432x288 with 1 Axes>"
      ]
     },
     "metadata": {
      "needs_background": "light"
     },
     "output_type": "display_data"
    }
   ],
   "source": [
    "pca = PCA(n_components=140)\n",
    "pca.fit(Xtr_mini)\n",
    "\n",
    "plt.plot(np.cumsum(pca.explained_variance_ratio_))\n",
    "plt.xlabel('Number of components')\n",
    "plt.ylabel('Cumulative explained variance')"
   ]
  },
  {
   "cell_type": "code",
   "execution_count": 15,
   "metadata": {},
   "outputs": [
    {
     "name": "stdout",
     "output_type": "stream",
     "text": [
      "(3200, 140)\n",
      "(3200, 100)\n"
     ]
    }
   ],
   "source": [
    "NCOMPONENTS = 100\n",
    "\n",
    "pca = PCA(n_components=NCOMPONENTS)\n",
    "Xtr_pca = pca.fit_transform(Xtr_mini)\n",
    "X_test_pca = pca.transform(X_test_mini)\n",
    "pca_std = np.std(Xtr_pca)\n",
    "\n",
    "print(Xtr_mini.shape)\n",
    "print(Xtr_pca.shape)"
   ]
  },
  {
   "cell_type": "code",
   "execution_count": 16,
   "metadata": {},
   "outputs": [
    {
     "name": "stdout",
     "output_type": "stream",
     "text": [
      "Creating data...\n",
      "This is : 3200\n",
      "Batch size 400, the number of examples 3200.\n",
      "This is : 800\n",
      "Batch size 400, the number of examples 800.\n",
      "Done!\n"
     ]
    }
   ],
   "source": [
    "# Create batches\n",
    "train_data, train_labels, valid_data, valid_labels = prepare_for_backprop(batch_size, Xtr_mini, Ltr_mini, X_test_mini, L_test_mini)"
   ]
  },
  {
   "cell_type": "markdown",
   "metadata": {},
   "source": [
    "# Multi Layer Perception"
   ]
  },
  {
   "cell_type": "code",
   "execution_count": 29,
   "metadata": {
    "scrolled": true
   },
   "outputs": [
    {
     "name": "stdout",
     "output_type": "stream",
     "text": [
      "Initializing input layer with size 140.\n",
      "Initializing hidden layer with size 20.\n",
      "Initializing output layer with size 4.\n",
      "Done!\n",
      "Training for 120 epochs...\n",
      "[   0]  Training error: 0.75000 Test error: 0.75000 Accuracy: 0.25000\n",
      "[   1]  Training error: 0.75000 Test error: 0.75000 Accuracy: 0.25000\n",
      "[   2]  Training error: 0.75000 Test error: 0.75000 Accuracy: 0.25000\n",
      "[   3]  Training error: 0.75000 Test error: 0.75000 Accuracy: 0.25000\n",
      "[   4]  Training error: 0.75000 Test error: 0.75000 Accuracy: 0.25000\n",
      "[   5]  Training error: 0.71750 Test error: 0.71375 Accuracy: 0.28625\n",
      "[   6]  Training error: 0.49594 Test error: 0.47625 Accuracy: 0.52375\n",
      "[   7]  Training error: 0.47063 Test error: 0.41875 Accuracy: 0.58125\n",
      "[   8]  Training error: 0.44000 Test error: 0.39625 Accuracy: 0.60375\n",
      "[   9]  Training error: 0.42219 Test error: 0.39000 Accuracy: 0.61000\n",
      "[  10]  Training error: 0.40969 Test error: 0.38500 Accuracy: 0.61500\n",
      "[  11]  Training error: 0.39969 Test error: 0.37875 Accuracy: 0.62125\n",
      "[  12]  Training error: 0.36062 Test error: 0.36250 Accuracy: 0.63750\n",
      "[  13]  Training error: 0.30844 Test error: 0.33000 Accuracy: 0.67000\n",
      "[  14]  Training error: 0.27813 Test error: 0.32250 Accuracy: 0.67750\n",
      "[  15]  Training error: 0.26062 Test error: 0.31250 Accuracy: 0.68750\n",
      "[  16]  Training error: 0.24625 Test error: 0.29875 Accuracy: 0.70125\n",
      "[  17]  Training error: 0.24063 Test error: 0.29500 Accuracy: 0.70500\n",
      "[  18]  Training error: 0.23531 Test error: 0.29000 Accuracy: 0.71000\n",
      "[  19]  Training error: 0.23125 Test error: 0.29000 Accuracy: 0.71000\n",
      "[  20]  Training error: 0.22594 Test error: 0.27750 Accuracy: 0.72250\n",
      "[  21]  Training error: 0.22156 Test error: 0.27375 Accuracy: 0.72625\n",
      "[  22]  Training error: 0.21844 Test error: 0.27625 Accuracy: 0.72375\n",
      "[  23]  Training error: 0.21500 Test error: 0.27750 Accuracy: 0.72250\n",
      "[  24]  Training error: 0.21281 Test error: 0.27500 Accuracy: 0.72500\n",
      "[  25]  Training error: 0.21281 Test error: 0.27125 Accuracy: 0.72875\n",
      "[  26]  Training error: 0.21188 Test error: 0.26875 Accuracy: 0.73125\n",
      "[  27]  Training error: 0.20969 Test error: 0.26625 Accuracy: 0.73375\n",
      "[  28]  Training error: 0.20813 Test error: 0.27125 Accuracy: 0.72875\n",
      "[  29]  Training error: 0.20813 Test error: 0.27375 Accuracy: 0.72625\n",
      "[  30]  Training error: 0.20750 Test error: 0.27500 Accuracy: 0.72500\n",
      "[  31]  Training error: 0.20594 Test error: 0.27375 Accuracy: 0.72625\n",
      "[  32]  Training error: 0.20406 Test error: 0.27500 Accuracy: 0.72500\n",
      "[  33]  Training error: 0.20344 Test error: 0.27625 Accuracy: 0.72375\n",
      "[  34]  Training error: 0.20156 Test error: 0.27750 Accuracy: 0.72250\n",
      "[  35]  Training error: 0.20062 Test error: 0.27750 Accuracy: 0.72250\n",
      "[  36]  Training error: 0.20094 Test error: 0.27875 Accuracy: 0.72125\n",
      "[  37]  Training error: 0.19906 Test error: 0.27500 Accuracy: 0.72500\n",
      "[  38]  Training error: 0.19844 Test error: 0.27375 Accuracy: 0.72625\n",
      "[  39]  Training error: 0.19781 Test error: 0.27375 Accuracy: 0.72625\n",
      "[  40]  Training error: 0.19625 Test error: 0.27125 Accuracy: 0.72875\n",
      "[  41]  Training error: 0.19656 Test error: 0.27250 Accuracy: 0.72750\n",
      "[  42]  Training error: 0.19531 Test error: 0.27250 Accuracy: 0.72750\n",
      "[  43]  Training error: 0.19500 Test error: 0.27125 Accuracy: 0.72875\n",
      "[  44]  Training error: 0.19469 Test error: 0.27125 Accuracy: 0.72875\n",
      "[  45]  Training error: 0.19406 Test error: 0.27125 Accuracy: 0.72875\n",
      "[  46]  Training error: 0.19344 Test error: 0.27250 Accuracy: 0.72750\n",
      "[  47]  Training error: 0.19250 Test error: 0.27375 Accuracy: 0.72625\n",
      "[  48]  Training error: 0.19156 Test error: 0.27500 Accuracy: 0.72500\n",
      "[  49]  Training error: 0.19000 Test error: 0.27500 Accuracy: 0.72500\n",
      "[  50]  Training error: 0.19125 Test error: 0.27625 Accuracy: 0.72375\n",
      "[  51]  Training error: 0.19219 Test error: 0.27500 Accuracy: 0.72500\n",
      "[  52]  Training error: 0.19219 Test error: 0.27500 Accuracy: 0.72500\n",
      "[  53]  Training error: 0.19156 Test error: 0.27375 Accuracy: 0.72625\n",
      "[  54]  Training error: 0.19031 Test error: 0.27375 Accuracy: 0.72625\n",
      "[  55]  Training error: 0.18969 Test error: 0.27625 Accuracy: 0.72375\n",
      "[  56]  Training error: 0.18969 Test error: 0.27625 Accuracy: 0.72375\n",
      "[  57]  Training error: 0.18937 Test error: 0.27500 Accuracy: 0.72500\n",
      "[  58]  Training error: 0.18906 Test error: 0.27500 Accuracy: 0.72500\n",
      "[  59]  Training error: 0.18906 Test error: 0.27625 Accuracy: 0.72375\n",
      "[  60]  Training error: 0.18812 Test error: 0.27375 Accuracy: 0.72625\n",
      "[  61]  Training error: 0.18781 Test error: 0.27250 Accuracy: 0.72750\n",
      "[  62]  Training error: 0.18719 Test error: 0.27250 Accuracy: 0.72750\n",
      "[  63]  Training error: 0.18750 Test error: 0.27250 Accuracy: 0.72750\n",
      "[  64]  Training error: 0.18750 Test error: 0.27250 Accuracy: 0.72750\n",
      "[  65]  Training error: 0.18750 Test error: 0.27125 Accuracy: 0.72875\n",
      "[  66]  Training error: 0.18625 Test error: 0.27250 Accuracy: 0.72750\n",
      "[  67]  Training error: 0.18500 Test error: 0.27375 Accuracy: 0.72625\n",
      "[  68]  Training error: 0.18406 Test error: 0.27500 Accuracy: 0.72500\n",
      "[  69]  Training error: 0.18375 Test error: 0.27500 Accuracy: 0.72500\n",
      "[  70]  Training error: 0.18281 Test error: 0.27500 Accuracy: 0.72500\n",
      "[  71]  Training error: 0.18250 Test error: 0.27375 Accuracy: 0.72625\n",
      "[  72]  Training error: 0.18156 Test error: 0.27375 Accuracy: 0.72625\n",
      "[  73]  Training error: 0.18063 Test error: 0.27375 Accuracy: 0.72625\n",
      "[  74]  Training error: 0.18094 Test error: 0.27375 Accuracy: 0.72625\n",
      "[  75]  Training error: 0.18063 Test error: 0.27375 Accuracy: 0.72625\n",
      "[  76]  Training error: 0.17938 Test error: 0.27500 Accuracy: 0.72500\n",
      "[  77]  Training error: 0.17844 Test error: 0.27500 Accuracy: 0.72500\n",
      "[  78]  Training error: 0.17781 Test error: 0.27500 Accuracy: 0.72500\n",
      "[  79]  Training error: 0.17781 Test error: 0.27500 Accuracy: 0.72500\n",
      "[  80]  Training error: 0.17781 Test error: 0.27500 Accuracy: 0.72500\n",
      "[  81]  Training error: 0.17781 Test error: 0.27375 Accuracy: 0.72625\n",
      "[  82]  Training error: 0.17656 Test error: 0.27500 Accuracy: 0.72500\n",
      "[  83]  Training error: 0.17563 Test error: 0.27375 Accuracy: 0.72625\n",
      "[  84]  Training error: 0.17531 Test error: 0.27250 Accuracy: 0.72750\n",
      "[  85]  Training error: 0.17563 Test error: 0.27375 Accuracy: 0.72625\n",
      "[  86]  Training error: 0.17469 Test error: 0.27375 Accuracy: 0.72625\n",
      "[  87]  Training error: 0.17406 Test error: 0.27375 Accuracy: 0.72625\n",
      "[  88]  Training error: 0.17375 Test error: 0.27500 Accuracy: 0.72500\n",
      "[  89]  Training error: 0.17313 Test error: 0.27750 Accuracy: 0.72250\n",
      "[  90]  Training error: 0.17250 Test error: 0.27875 Accuracy: 0.72125\n",
      "[  91]  Training error: 0.17188 Test error: 0.27875 Accuracy: 0.72125\n",
      "[  92]  Training error: 0.17156 Test error: 0.27875 Accuracy: 0.72125\n",
      "[  93]  Training error: 0.17125 Test error: 0.27875 Accuracy: 0.72125\n",
      "[  94]  Training error: 0.17125 Test error: 0.27750 Accuracy: 0.72250\n",
      "[  95]  Training error: 0.17125 Test error: 0.27875 Accuracy: 0.72125\n",
      "[  96]  Training error: 0.17000 Test error: 0.28000 Accuracy: 0.72000\n",
      "[  97]  Training error: 0.16937 Test error: 0.28000 Accuracy: 0.72000\n",
      "[  98]  Training error: 0.16875 Test error: 0.28000 Accuracy: 0.72000\n",
      "[  99]  Training error: 0.16812 Test error: 0.28000 Accuracy: 0.72000\n",
      "[ 100]  Training error: 0.16812 Test error: 0.28125 Accuracy: 0.71875\n",
      "[ 101]  Training error: 0.16781 Test error: 0.28000 Accuracy: 0.72000\n",
      "[ 102]  Training error: 0.16781 Test error: 0.28000 Accuracy: 0.72000\n",
      "[ 103]  Training error: 0.16719 Test error: 0.27875 Accuracy: 0.72125\n",
      "[ 104]  Training error: 0.16625 Test error: 0.27875 Accuracy: 0.72125\n",
      "[ 105]  Training error: 0.16562 Test error: 0.27625 Accuracy: 0.72375\n",
      "[ 106]  Training error: 0.16562 Test error: 0.27625 Accuracy: 0.72375\n",
      "[ 107]  Training error: 0.16562 Test error: 0.27625 Accuracy: 0.72375\n",
      "[ 108]  Training error: 0.16469 Test error: 0.27625 Accuracy: 0.72375\n",
      "[ 109]  Training error: 0.16469 Test error: 0.27625 Accuracy: 0.72375\n",
      "[ 110]  Training error: 0.16406 Test error: 0.27625 Accuracy: 0.72375\n",
      "[ 111]  Training error: 0.16406 Test error: 0.27750 Accuracy: 0.72250\n",
      "[ 112]  Training error: 0.16375 Test error: 0.27750 Accuracy: 0.72250\n",
      "[ 113]  Training error: 0.16281 Test error: 0.27750 Accuracy: 0.72250\n",
      "[ 114]  Training error: 0.16219 Test error: 0.27875 Accuracy: 0.72125\n",
      "[ 115]  Training error: 0.16219 Test error: 0.27750 Accuracy: 0.72250\n",
      "[ 116]  Training error: 0.16156 Test error: 0.27625 Accuracy: 0.72375\n"
     ]
    },
    {
     "name": "stdout",
     "output_type": "stream",
     "text": [
      "[ 117]  Training error: 0.16125 Test error: 0.27625 Accuracy: 0.72375\n",
      "[ 118]  Training error: 0.16125 Test error: 0.27625 Accuracy: 0.72375\n",
      "[ 119]  Training error: 0.16125 Test error: 0.27625 Accuracy: 0.72375\n",
      "119\n",
      "True\n",
      "Done:)\n",
      "\n"
     ]
    },
    {
     "data": {
      "image/png": "[encoded data removed]",
      "text/plain": [
       "<Figure size 720x504 with 2 Axes>"
      ]
     },
     "metadata": {
      "needs_background": "light"
     },
     "output_type": "display_data"
    }
   ],
   "source": [
    "mlp = MultiLayerPerceptron(input_genres,layer_config=[140,20, len(input_genres)], batch_size=batch_size,CM=True)\n",
    "\n",
    "mlp.evaluate(train_data, train_labels, valid_data, valid_labels,eta=0.001,\n",
    "             eval_train=True)\n",
    "\n",
    "print(\"Done:)\\n\")"
   ]
  },
  {
   "cell_type": "code",
   "execution_count": null,
   "metadata": {},
   "outputs": [],
   "source": []
  }
 ],
 "metadata": {
  "kernelspec": {
   "display_name": "Python 3",
   "language": "python",
   "name": "python3"
  },
  "language_info": {
   "codemirror_mode": {
    "name": "ipython",
    "version": 3
   },
   "file_extension": ".py",
   "mimetype": "text/x-python",
   "name": "python",
   "nbconvert_exporter": "python",
   "pygments_lexer": "ipython3",
   "version": "3.6.8"
  }
 },
 "nbformat": 4,
 "nbformat_minor": 2
}
